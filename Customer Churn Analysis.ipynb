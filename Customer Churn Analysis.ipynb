{
 "cells": [
  {
   "cell_type": "markdown",
   "metadata": {},
   "source": [
    "### Importing Libraries"
   ]
  },
  {
   "cell_type": "code",
   "execution_count": 39,
   "metadata": {},
   "outputs": [],
   "source": [
    "import pandas as pd\n",
    "import numpy as nm\n",
    "\n",
    "from sklearn import preprocessing\n",
    "from sklearn.impute import SimpleImputer\n",
    "from sklearn.compose import ColumnTransformer\n",
    "from sklearn.preprocessing import StandardScaler\n",
    "from sklearn.preprocessing import OneHotEncoder\n",
    "from sklearn.model_selection import train_test_split\n",
    "from sklearn.pipeline import Pipeline\n",
    "from sklearn.metrics import f1_score\n",
    "from sklearn.linear_model import LogisticRegression\n",
    "from sklearn import tree\n",
    "from sklearn.svm import SVC\n",
    "from sklearn.ensemble import RandomForestClassifier\n",
    "from sklearn.neighbors import KNeighborsClassifier\n",
    "from sklearn.ensemble import GradientBoostingClassifier\n",
    "from imblearn.over_sampling import SMOTE\n",
    "\n",
    "from sklearn.model_selection import GridSearchCV\n",
    "\n",
    "import matplotlib.pyplot as plt\n",
    "import seaborn as sns"
   ]
  },
  {
   "cell_type": "markdown",
   "metadata": {},
   "source": [
    "### Reading Test Data Excel Fle and Describing the data"
   ]
  },
  {
   "cell_type": "code",
   "execution_count": 40,
   "metadata": {},
   "outputs": [
    {
     "data": {
      "text/html": [
       "<div>\n",
       "<style scoped>\n",
       "    .dataframe tbody tr th:only-of-type {\n",
       "        vertical-align: middle;\n",
       "    }\n",
       "\n",
       "    .dataframe tbody tr th {\n",
       "        vertical-align: top;\n",
       "    }\n",
       "\n",
       "    .dataframe thead th {\n",
       "        text-align: right;\n",
       "    }\n",
       "</style>\n",
       "<table border=\"1\" class=\"dataframe\">\n",
       "  <thead>\n",
       "    <tr style=\"text-align: right;\">\n",
       "      <th></th>\n",
       "      <th>yearofBirth</th>\n",
       "      <th>monthofBirth</th>\n",
       "      <th>dayofBirth</th>\n",
       "      <th>yearofEntry</th>\n",
       "      <th>monthofEntry</th>\n",
       "      <th>dayofEntry</th>\n",
       "      <th>CreditScore</th>\n",
       "      <th>AccountBalance</th>\n",
       "      <th>NumberOfProducts</th>\n",
       "      <th>IsCreditCardCustomer</th>\n",
       "      <th>ActiveMember</th>\n",
       "      <th>Salary</th>\n",
       "      <th>Churn</th>\n",
       "    </tr>\n",
       "  </thead>\n",
       "  <tbody>\n",
       "    <tr>\n",
       "      <td>count</td>\n",
       "      <td>7360.000000</td>\n",
       "      <td>7360.000000</td>\n",
       "      <td>7360.000000</td>\n",
       "      <td>7360.000000</td>\n",
       "      <td>7360.000000</td>\n",
       "      <td>7360.000000</td>\n",
       "      <td>7360.000000</td>\n",
       "      <td>7360.000000</td>\n",
       "      <td>7360.000000</td>\n",
       "      <td>7360.000000</td>\n",
       "      <td>7360.000000</td>\n",
       "      <td>7360.000000</td>\n",
       "      <td>7360.000000</td>\n",
       "    </tr>\n",
       "    <tr>\n",
       "      <td>mean</td>\n",
       "      <td>1979.058832</td>\n",
       "      <td>6.540897</td>\n",
       "      <td>14.607201</td>\n",
       "      <td>2012.984783</td>\n",
       "      <td>6.477174</td>\n",
       "      <td>14.505571</td>\n",
       "      <td>650.648777</td>\n",
       "      <td>76601.068011</td>\n",
       "      <td>1.524592</td>\n",
       "      <td>0.704212</td>\n",
       "      <td>0.510462</td>\n",
       "      <td>99967.894062</td>\n",
       "      <td>0.202717</td>\n",
       "    </tr>\n",
       "    <tr>\n",
       "      <td>std</td>\n",
       "      <td>10.464673</td>\n",
       "      <td>3.432135</td>\n",
       "      <td>8.068158</td>\n",
       "      <td>2.898385</td>\n",
       "      <td>3.433252</td>\n",
       "      <td>8.020220</td>\n",
       "      <td>96.769231</td>\n",
       "      <td>62442.214871</td>\n",
       "      <td>0.577415</td>\n",
       "      <td>0.456427</td>\n",
       "      <td>0.499924</td>\n",
       "      <td>57342.390262</td>\n",
       "      <td>0.402051</td>\n",
       "    </tr>\n",
       "    <tr>\n",
       "      <td>min</td>\n",
       "      <td>1926.000000</td>\n",
       "      <td>1.000000</td>\n",
       "      <td>1.000000</td>\n",
       "      <td>2008.000000</td>\n",
       "      <td>1.000000</td>\n",
       "      <td>1.000000</td>\n",
       "      <td>350.000000</td>\n",
       "      <td>0.000000</td>\n",
       "      <td>1.000000</td>\n",
       "      <td>0.000000</td>\n",
       "      <td>0.000000</td>\n",
       "      <td>11.580000</td>\n",
       "      <td>0.000000</td>\n",
       "    </tr>\n",
       "    <tr>\n",
       "      <td>25%</td>\n",
       "      <td>1974.000000</td>\n",
       "      <td>4.000000</td>\n",
       "      <td>8.000000</td>\n",
       "      <td>2010.000000</td>\n",
       "      <td>4.000000</td>\n",
       "      <td>8.000000</td>\n",
       "      <td>584.000000</td>\n",
       "      <td>0.000000</td>\n",
       "      <td>1.000000</td>\n",
       "      <td>0.000000</td>\n",
       "      <td>0.000000</td>\n",
       "      <td>51361.780000</td>\n",
       "      <td>0.000000</td>\n",
       "    </tr>\n",
       "    <tr>\n",
       "      <td>50%</td>\n",
       "      <td>1981.000000</td>\n",
       "      <td>7.000000</td>\n",
       "      <td>15.000000</td>\n",
       "      <td>2013.000000</td>\n",
       "      <td>6.000000</td>\n",
       "      <td>15.000000</td>\n",
       "      <td>652.000000</td>\n",
       "      <td>96913.725000</td>\n",
       "      <td>1.000000</td>\n",
       "      <td>1.000000</td>\n",
       "      <td>1.000000</td>\n",
       "      <td>99446.940000</td>\n",
       "      <td>0.000000</td>\n",
       "    </tr>\n",
       "    <tr>\n",
       "      <td>75%</td>\n",
       "      <td>1986.000000</td>\n",
       "      <td>10.000000</td>\n",
       "      <td>22.000000</td>\n",
       "      <td>2015.250000</td>\n",
       "      <td>9.000000</td>\n",
       "      <td>21.000000</td>\n",
       "      <td>718.000000</td>\n",
       "      <td>127660.767500</td>\n",
       "      <td>2.000000</td>\n",
       "      <td>1.000000</td>\n",
       "      <td>1.000000</td>\n",
       "      <td>149068.075000</td>\n",
       "      <td>0.000000</td>\n",
       "    </tr>\n",
       "    <tr>\n",
       "      <td>max</td>\n",
       "      <td>2000.000000</td>\n",
       "      <td>12.000000</td>\n",
       "      <td>28.000000</td>\n",
       "      <td>2018.000000</td>\n",
       "      <td>12.000000</td>\n",
       "      <td>28.000000</td>\n",
       "      <td>850.000000</td>\n",
       "      <td>250898.090000</td>\n",
       "      <td>4.000000</td>\n",
       "      <td>1.000000</td>\n",
       "      <td>1.000000</td>\n",
       "      <td>199992.480000</td>\n",
       "      <td>1.000000</td>\n",
       "    </tr>\n",
       "  </tbody>\n",
       "</table>\n",
       "</div>"
      ],
      "text/plain": [
       "       yearofBirth  monthofBirth   dayofBirth  yearofEntry  monthofEntry  \\\n",
       "count  7360.000000   7360.000000  7360.000000  7360.000000   7360.000000   \n",
       "mean   1979.058832      6.540897    14.607201  2012.984783      6.477174   \n",
       "std      10.464673      3.432135     8.068158     2.898385      3.433252   \n",
       "min    1926.000000      1.000000     1.000000  2008.000000      1.000000   \n",
       "25%    1974.000000      4.000000     8.000000  2010.000000      4.000000   \n",
       "50%    1981.000000      7.000000    15.000000  2013.000000      6.000000   \n",
       "75%    1986.000000     10.000000    22.000000  2015.250000      9.000000   \n",
       "max    2000.000000     12.000000    28.000000  2018.000000     12.000000   \n",
       "\n",
       "        dayofEntry  CreditScore  AccountBalance  NumberOfProducts  \\\n",
       "count  7360.000000  7360.000000     7360.000000       7360.000000   \n",
       "mean     14.505571   650.648777    76601.068011          1.524592   \n",
       "std       8.020220    96.769231    62442.214871          0.577415   \n",
       "min       1.000000   350.000000        0.000000          1.000000   \n",
       "25%       8.000000   584.000000        0.000000          1.000000   \n",
       "50%      15.000000   652.000000    96913.725000          1.000000   \n",
       "75%      21.000000   718.000000   127660.767500          2.000000   \n",
       "max      28.000000   850.000000   250898.090000          4.000000   \n",
       "\n",
       "       IsCreditCardCustomer  ActiveMember         Salary        Churn  \n",
       "count           7360.000000   7360.000000    7360.000000  7360.000000  \n",
       "mean               0.704212      0.510462   99967.894062     0.202717  \n",
       "std                0.456427      0.499924   57342.390262     0.402051  \n",
       "min                0.000000      0.000000      11.580000     0.000000  \n",
       "25%                0.000000      0.000000   51361.780000     0.000000  \n",
       "50%                1.000000      1.000000   99446.940000     0.000000  \n",
       "75%                1.000000      1.000000  149068.075000     0.000000  \n",
       "max                1.000000      1.000000  199992.480000     1.000000  "
      ]
     },
     "execution_count": 40,
     "metadata": {},
     "output_type": "execute_result"
    }
   ],
   "source": [
    "train_data = pd.read_excel(\"train_data-1578037482430.xlsx\", header=0, na_values='unknown')\n",
    "train_data.describe()"
   ]
  },
  {
   "cell_type": "markdown",
   "metadata": {},
   "source": [
    "### Reading Test Dara Excel File and describing the data"
   ]
  },
  {
   "cell_type": "code",
   "execution_count": 41,
   "metadata": {
    "scrolled": true
   },
   "outputs": [
    {
     "data": {
      "text/html": [
       "<div>\n",
       "<style scoped>\n",
       "    .dataframe tbody tr th:only-of-type {\n",
       "        vertical-align: middle;\n",
       "    }\n",
       "\n",
       "    .dataframe tbody tr th {\n",
       "        vertical-align: top;\n",
       "    }\n",
       "\n",
       "    .dataframe thead th {\n",
       "        text-align: right;\n",
       "    }\n",
       "</style>\n",
       "<table border=\"1\" class=\"dataframe\">\n",
       "  <thead>\n",
       "    <tr style=\"text-align: right;\">\n",
       "      <th></th>\n",
       "      <th>yearofBirth</th>\n",
       "      <th>monthofBirth</th>\n",
       "      <th>dayofBirth</th>\n",
       "      <th>yearofEntry</th>\n",
       "      <th>monthofEntry</th>\n",
       "      <th>dayofEntry</th>\n",
       "      <th>CreditScore</th>\n",
       "      <th>AccountBalance</th>\n",
       "      <th>NumberOfProducts</th>\n",
       "      <th>IsCreditCardCustomer</th>\n",
       "      <th>ActiveMember</th>\n",
       "      <th>Salary</th>\n",
       "    </tr>\n",
       "  </thead>\n",
       "  <tbody>\n",
       "    <tr>\n",
       "      <td>count</td>\n",
       "      <td>1840.000000</td>\n",
       "      <td>1840.000000</td>\n",
       "      <td>1840.000000</td>\n",
       "      <td>1840.000000</td>\n",
       "      <td>1840.000000</td>\n",
       "      <td>1840.000000</td>\n",
       "      <td>1840.000000</td>\n",
       "      <td>1840.000000</td>\n",
       "      <td>1840.000000</td>\n",
       "      <td>1840.000000</td>\n",
       "      <td>1840.000000</td>\n",
       "      <td>1840.000000</td>\n",
       "    </tr>\n",
       "    <tr>\n",
       "      <td>mean</td>\n",
       "      <td>1979.079348</td>\n",
       "      <td>6.428261</td>\n",
       "      <td>14.646739</td>\n",
       "      <td>2013.067391</td>\n",
       "      <td>6.496739</td>\n",
       "      <td>14.621196</td>\n",
       "      <td>650.783152</td>\n",
       "      <td>75116.590674</td>\n",
       "      <td>1.554348</td>\n",
       "      <td>0.707609</td>\n",
       "      <td>0.531522</td>\n",
       "      <td>100166.398853</td>\n",
       "    </tr>\n",
       "    <tr>\n",
       "      <td>std</td>\n",
       "      <td>10.722776</td>\n",
       "      <td>3.446675</td>\n",
       "      <td>8.205039</td>\n",
       "      <td>2.877756</td>\n",
       "      <td>3.468336</td>\n",
       "      <td>8.081591</td>\n",
       "      <td>96.329207</td>\n",
       "      <td>62614.929825</td>\n",
       "      <td>0.602950</td>\n",
       "      <td>0.454985</td>\n",
       "      <td>0.499141</td>\n",
       "      <td>58071.421408</td>\n",
       "    </tr>\n",
       "    <tr>\n",
       "      <td>min</td>\n",
       "      <td>1937.000000</td>\n",
       "      <td>1.000000</td>\n",
       "      <td>1.000000</td>\n",
       "      <td>2008.000000</td>\n",
       "      <td>1.000000</td>\n",
       "      <td>1.000000</td>\n",
       "      <td>363.000000</td>\n",
       "      <td>0.000000</td>\n",
       "      <td>1.000000</td>\n",
       "      <td>0.000000</td>\n",
       "      <td>0.000000</td>\n",
       "      <td>106.670000</td>\n",
       "    </tr>\n",
       "    <tr>\n",
       "      <td>25%</td>\n",
       "      <td>1974.000000</td>\n",
       "      <td>4.000000</td>\n",
       "      <td>7.750000</td>\n",
       "      <td>2011.000000</td>\n",
       "      <td>4.000000</td>\n",
       "      <td>8.000000</td>\n",
       "      <td>584.000000</td>\n",
       "      <td>0.000000</td>\n",
       "      <td>1.000000</td>\n",
       "      <td>0.000000</td>\n",
       "      <td>0.000000</td>\n",
       "      <td>50050.127500</td>\n",
       "    </tr>\n",
       "    <tr>\n",
       "      <td>50%</td>\n",
       "      <td>1981.000000</td>\n",
       "      <td>6.000000</td>\n",
       "      <td>15.000000</td>\n",
       "      <td>2013.000000</td>\n",
       "      <td>7.000000</td>\n",
       "      <td>15.000000</td>\n",
       "      <td>651.000000</td>\n",
       "      <td>97372.095000</td>\n",
       "      <td>2.000000</td>\n",
       "      <td>1.000000</td>\n",
       "      <td>1.000000</td>\n",
       "      <td>100766.915000</td>\n",
       "    </tr>\n",
       "    <tr>\n",
       "      <td>75%</td>\n",
       "      <td>1986.000000</td>\n",
       "      <td>9.000000</td>\n",
       "      <td>22.000000</td>\n",
       "      <td>2016.000000</td>\n",
       "      <td>9.000000</td>\n",
       "      <td>22.000000</td>\n",
       "      <td>718.000000</td>\n",
       "      <td>127735.702500</td>\n",
       "      <td>2.000000</td>\n",
       "      <td>1.000000</td>\n",
       "      <td>1.000000</td>\n",
       "      <td>149760.675000</td>\n",
       "    </tr>\n",
       "    <tr>\n",
       "      <td>max</td>\n",
       "      <td>2000.000000</td>\n",
       "      <td>12.000000</td>\n",
       "      <td>28.000000</td>\n",
       "      <td>2018.000000</td>\n",
       "      <td>12.000000</td>\n",
       "      <td>28.000000</td>\n",
       "      <td>850.000000</td>\n",
       "      <td>205770.780000</td>\n",
       "      <td>4.000000</td>\n",
       "      <td>1.000000</td>\n",
       "      <td>1.000000</td>\n",
       "      <td>199953.330000</td>\n",
       "    </tr>\n",
       "  </tbody>\n",
       "</table>\n",
       "</div>"
      ],
      "text/plain": [
       "       yearofBirth  monthofBirth   dayofBirth  yearofEntry  monthofEntry  \\\n",
       "count  1840.000000   1840.000000  1840.000000  1840.000000   1840.000000   \n",
       "mean   1979.079348      6.428261    14.646739  2013.067391      6.496739   \n",
       "std      10.722776      3.446675     8.205039     2.877756      3.468336   \n",
       "min    1937.000000      1.000000     1.000000  2008.000000      1.000000   \n",
       "25%    1974.000000      4.000000     7.750000  2011.000000      4.000000   \n",
       "50%    1981.000000      6.000000    15.000000  2013.000000      7.000000   \n",
       "75%    1986.000000      9.000000    22.000000  2016.000000      9.000000   \n",
       "max    2000.000000     12.000000    28.000000  2018.000000     12.000000   \n",
       "\n",
       "        dayofEntry  CreditScore  AccountBalance  NumberOfProducts  \\\n",
       "count  1840.000000  1840.000000     1840.000000       1840.000000   \n",
       "mean     14.621196   650.783152    75116.590674          1.554348   \n",
       "std       8.081591    96.329207    62614.929825          0.602950   \n",
       "min       1.000000   363.000000        0.000000          1.000000   \n",
       "25%       8.000000   584.000000        0.000000          1.000000   \n",
       "50%      15.000000   651.000000    97372.095000          2.000000   \n",
       "75%      22.000000   718.000000   127735.702500          2.000000   \n",
       "max      28.000000   850.000000   205770.780000          4.000000   \n",
       "\n",
       "       IsCreditCardCustomer  ActiveMember         Salary  \n",
       "count           1840.000000   1840.000000    1840.000000  \n",
       "mean               0.707609      0.531522  100166.398853  \n",
       "std                0.454985      0.499141   58071.421408  \n",
       "min                0.000000      0.000000     106.670000  \n",
       "25%                0.000000      0.000000   50050.127500  \n",
       "50%                1.000000      1.000000  100766.915000  \n",
       "75%                1.000000      1.000000  149760.675000  \n",
       "max                1.000000      1.000000  199953.330000  "
      ]
     },
     "execution_count": 41,
     "metadata": {},
     "output_type": "execute_result"
    }
   ],
   "source": [
    "test_data = pd.read_excel(\"test_data-1578037501169.xlsx\", header= 0, na_values='unknown')\n",
    "test_data.describe()"
   ]
  },
  {
   "cell_type": "markdown",
   "metadata": {},
   "source": [
    "### Checking Columns of train_data"
   ]
  },
  {
   "cell_type": "code",
   "execution_count": 42,
   "metadata": {},
   "outputs": [
    {
     "data": {
      "text/plain": [
       "Index(['CustomerID', 'CustomerName', 'yearofBirth', 'monthofBirth',\n",
       "       'dayofBirth', 'yearofEntry', 'monthofEntry', 'dayofEntry', 'Gender',\n",
       "       'Location', 'Education', 'MaritalStatus', 'Occupation', 'Ownhouse',\n",
       "       'CreditScore', 'AccountBalance', 'NumberOfProducts',\n",
       "       'IsCreditCardCustomer', 'ActiveMember', 'Salary', 'Churn'],\n",
       "      dtype='object')"
      ]
     },
     "execution_count": 42,
     "metadata": {},
     "output_type": "execute_result"
    }
   ],
   "source": [
    "train_data.columns"
   ]
  },
  {
   "cell_type": "markdown",
   "metadata": {},
   "source": [
    "### Checking Columns of test_data"
   ]
  },
  {
   "cell_type": "code",
   "execution_count": 43,
   "metadata": {},
   "outputs": [
    {
     "data": {
      "text/plain": [
       "Index(['CustomerID', 'CustomerName', 'yearofBirth', 'monthofBirth',\n",
       "       'dayofBirth', 'yearofEntry', 'monthofEntry', 'dayofEntry', 'Gender',\n",
       "       'Location', 'Education', 'MaritalStatus', 'Occupation', 'Ownhouse',\n",
       "       'CreditScore', 'AccountBalance', 'NumberOfProducts',\n",
       "       'IsCreditCardCustomer', 'ActiveMember', 'Salary'],\n",
       "      dtype='object')"
      ]
     },
     "execution_count": 43,
     "metadata": {},
     "output_type": "execute_result"
    }
   ],
   "source": [
    "test_data.columns"
   ]
  },
  {
   "cell_type": "markdown",
   "metadata": {},
   "source": [
    "### Checking Na values (in file 'unknown')"
   ]
  },
  {
   "cell_type": "code",
   "execution_count": 44,
   "metadata": {},
   "outputs": [
    {
     "data": {
      "text/plain": [
       "CustomerID                 0\n",
       "CustomerName               0\n",
       "yearofBirth                0\n",
       "monthofBirth               0\n",
       "dayofBirth                 0\n",
       "yearofEntry                0\n",
       "monthofEntry               0\n",
       "dayofEntry                 0\n",
       "Gender                     0\n",
       "Location                   0\n",
       "Education               1860\n",
       "MaritalStatus              0\n",
       "Occupation               781\n",
       "Ownhouse                 191\n",
       "CreditScore                0\n",
       "AccountBalance             0\n",
       "NumberOfProducts           0\n",
       "IsCreditCardCustomer       0\n",
       "ActiveMember               0\n",
       "Salary                     0\n",
       "Churn                      0\n",
       "dtype: int64"
      ]
     },
     "execution_count": 44,
     "metadata": {},
     "output_type": "execute_result"
    }
   ],
   "source": [
    "train_data.isna().sum()"
   ]
  },
  {
   "cell_type": "code",
   "execution_count": 45,
   "metadata": {},
   "outputs": [
    {
     "data": {
      "text/plain": [
       "CustomerID                0\n",
       "CustomerName              0\n",
       "yearofBirth               0\n",
       "monthofBirth              0\n",
       "dayofBirth                0\n",
       "yearofEntry               0\n",
       "monthofEntry              0\n",
       "dayofEntry                0\n",
       "Gender                    0\n",
       "Location                  0\n",
       "Education               481\n",
       "MaritalStatus             0\n",
       "Occupation              177\n",
       "Ownhouse                 59\n",
       "CreditScore               0\n",
       "AccountBalance            0\n",
       "NumberOfProducts          0\n",
       "IsCreditCardCustomer      0\n",
       "ActiveMember              0\n",
       "Salary                    0\n",
       "dtype: int64"
      ]
     },
     "execution_count": 45,
     "metadata": {},
     "output_type": "execute_result"
    }
   ],
   "source": [
    "test_data.isna().sum()"
   ]
  },
  {
   "cell_type": "markdown",
   "metadata": {},
   "source": [
    "### Checking Datatypes of the columns"
   ]
  },
  {
   "cell_type": "code",
   "execution_count": 46,
   "metadata": {},
   "outputs": [
    {
     "data": {
      "text/plain": [
       "CustomerID               object\n",
       "CustomerName             object\n",
       "yearofBirth               int64\n",
       "monthofBirth              int64\n",
       "dayofBirth                int64\n",
       "yearofEntry               int64\n",
       "monthofEntry              int64\n",
       "dayofEntry                int64\n",
       "Gender                   object\n",
       "Location                 object\n",
       "Education                object\n",
       "MaritalStatus            object\n",
       "Occupation               object\n",
       "Ownhouse                 object\n",
       "CreditScore               int64\n",
       "AccountBalance          float64\n",
       "NumberOfProducts          int64\n",
       "IsCreditCardCustomer      int64\n",
       "ActiveMember              int64\n",
       "Salary                  float64\n",
       "Churn                     int64\n",
       "dtype: object"
      ]
     },
     "execution_count": 46,
     "metadata": {},
     "output_type": "execute_result"
    }
   ],
   "source": [
    "train_data.dtypes"
   ]
  },
  {
   "cell_type": "code",
   "execution_count": 47,
   "metadata": {},
   "outputs": [
    {
     "data": {
      "text/plain": [
       "CustomerID               object\n",
       "CustomerName             object\n",
       "yearofBirth               int64\n",
       "monthofBirth              int64\n",
       "dayofBirth                int64\n",
       "yearofEntry               int64\n",
       "monthofEntry              int64\n",
       "dayofEntry                int64\n",
       "Gender                   object\n",
       "Location                 object\n",
       "Education                object\n",
       "MaritalStatus            object\n",
       "Occupation               object\n",
       "Ownhouse                 object\n",
       "CreditScore               int64\n",
       "AccountBalance          float64\n",
       "NumberOfProducts          int64\n",
       "IsCreditCardCustomer      int64\n",
       "ActiveMember              int64\n",
       "Salary                  float64\n",
       "dtype: object"
      ]
     },
     "execution_count": 47,
     "metadata": {},
     "output_type": "execute_result"
    }
   ],
   "source": [
    "test_data.dtypes"
   ]
  },
  {
   "cell_type": "markdown",
   "metadata": {},
   "source": [
    "### Converting object to category "
   ]
  },
  {
   "cell_type": "code",
   "execution_count": 48,
   "metadata": {},
   "outputs": [
    {
     "name": "stdout",
     "output_type": "stream",
     "text": [
      "CustomerID              category\n",
      "CustomerName            category\n",
      "yearofBirth                int64\n",
      "monthofBirth               int64\n",
      "dayofBirth                 int64\n",
      "yearofEntry                int64\n",
      "monthofEntry               int64\n",
      "dayofEntry                 int64\n",
      "Gender                  category\n",
      "Location                category\n",
      "Education               category\n",
      "MaritalStatus           category\n",
      "Occupation              category\n",
      "Ownhouse                category\n",
      "CreditScore                int64\n",
      "AccountBalance           float64\n",
      "NumberOfProducts           int64\n",
      "IsCreditCardCustomer       int64\n",
      "ActiveMember               int64\n",
      "Salary                   float64\n",
      "Churn                      int64\n",
      "dtype: object\n"
     ]
    }
   ],
   "source": [
    "for col in train_data[train_data.select_dtypes('object').columns]:\n",
    "    train_data[col]=train_data[col].astype('category')\n",
    "print(train_data.dtypes)"
   ]
  },
  {
   "cell_type": "code",
   "execution_count": 49,
   "metadata": {},
   "outputs": [
    {
     "name": "stdout",
     "output_type": "stream",
     "text": [
      "CustomerID              category\n",
      "CustomerName            category\n",
      "yearofBirth                int64\n",
      "monthofBirth               int64\n",
      "dayofBirth                 int64\n",
      "yearofEntry                int64\n",
      "monthofEntry               int64\n",
      "dayofEntry                 int64\n",
      "Gender                  category\n",
      "Location                category\n",
      "Education               category\n",
      "MaritalStatus           category\n",
      "Occupation              category\n",
      "Ownhouse                category\n",
      "CreditScore                int64\n",
      "AccountBalance           float64\n",
      "NumberOfProducts           int64\n",
      "IsCreditCardCustomer       int64\n",
      "ActiveMember               int64\n",
      "Salary                   float64\n",
      "dtype: object\n"
     ]
    }
   ],
   "source": [
    "for col in test_data[test_data.select_dtypes('object').columns]:\n",
    "    test_data[col]=test_data[col].astype('category')\n",
    "print(test_data.dtypes)"
   ]
  },
  {
   "cell_type": "markdown",
   "metadata": {},
   "source": [
    "### Backing up CustomerID column form test data for further use"
   ]
  },
  {
   "cell_type": "code",
   "execution_count": 50,
   "metadata": {},
   "outputs": [
    {
     "data": {
      "text/plain": [
       "0       C5993228\n",
       "1       C6546925\n",
       "2       C7491750\n",
       "3       C8462011\n",
       "4       C3187447\n",
       "          ...   \n",
       "1835    C5458876\n",
       "1836    C4306823\n",
       "1837    C2409933\n",
       "1838    C5212350\n",
       "1839    C4383485\n",
       "Name: CustomerID, Length: 1840, dtype: category\n",
       "Categories (1840, object): [C2001443, C2003319, C2004181, C2006361, ..., C8993145, C8993460, C8999043, C8999901]"
      ]
     },
     "execution_count": 50,
     "metadata": {},
     "output_type": "execute_result"
    }
   ],
   "source": [
    "test_customerID = test_data['CustomerID']\n",
    "test_customerID"
   ]
  },
  {
   "cell_type": "markdown",
   "metadata": {},
   "source": [
    "### Ploting the count of yes (1) and no (0) values in Churn"
   ]
  },
  {
   "cell_type": "code",
   "execution_count": 51,
   "metadata": {},
   "outputs": [
    {
     "data": {
      "image/png": "[encoded data removed]",
      "text/plain": [
       "<Figure size 720x720 with 1 Axes>"
      ]
     },
     "metadata": {
      "needs_background": "light"
     },
     "output_type": "display_data"
    },
    {
     "name": "stdout",
     "output_type": "stream",
     "text": [
      "0    5868\n",
      "1    1492\n",
      "Name: Churn, dtype: int64\n",
      "Percentage of people churned: 20.27173913043478 %\n"
     ]
    }
   ],
   "source": [
    "plt.figure(figsize=(10,10))\n",
    "sns.countplot(x='Churn',data=train_data)\n",
    "plt.show()\n",
    "\n",
    "print(train_data.Churn.value_counts())\n",
    "\n",
    "count_yes = len(train_data[train_data.Churn == 1])\n",
    "count_no = len(train_data[train_data.Churn != 1])\n",
    "\n",
    "percent_success = (count_yes/(count_yes + count_no))*100\n",
    "\n",
    "print('Percentage of people churned:', percent_success, \"%\")"
   ]
  },
  {
   "cell_type": "markdown",
   "metadata": {},
   "source": [
    "### Plot to check customer churned based on gender"
   ]
  },
  {
   "cell_type": "code",
   "execution_count": 52,
   "metadata": {},
   "outputs": [
    {
     "data": {
      "image/png": "[encoded data removed]",
      "text/plain": [
       "<Figure size 720x720 with 1 Axes>"
      ]
     },
     "metadata": {
      "needs_background": "light"
     },
     "output_type": "display_data"
    }
   ],
   "source": [
    "plt.figure(figsize=(10,10))\n",
    "sns.countplot(x='Churn',hue= 'Gender',data=train_data)\n",
    "plt.show()"
   ]
  },
  {
   "cell_type": "markdown",
   "metadata": {},
   "source": [
    "### Plot to check customer churned based on location"
   ]
  },
  {
   "cell_type": "code",
   "execution_count": 53,
   "metadata": {},
   "outputs": [
    {
     "data": {
      "image/png": "[encoded data removed]",
      "text/plain": [
       "<Figure size 720x720 with 1 Axes>"
      ]
     },
     "metadata": {
      "needs_background": "light"
     },
     "output_type": "display_data"
    }
   ],
   "source": [
    "plt.figure(figsize=(10,10))\n",
    "sns.countplot(x='Churn',hue= 'Location',data=train_data)\n",
    "plt.show()"
   ]
  },
  {
   "cell_type": "markdown",
   "metadata": {},
   "source": [
    "### Plot to check customer churned based on Education"
   ]
  },
  {
   "cell_type": "code",
   "execution_count": 54,
   "metadata": {},
   "outputs": [
    {
     "data": {
      "image/png": "[encoded data removed]",
      "text/plain": [
       "<Figure size 720x720 with 1 Axes>"
      ]
     },
     "metadata": {
      "needs_background": "light"
     },
     "output_type": "display_data"
    }
   ],
   "source": [
    "plt.figure(figsize=(10,10))\n",
    "sns.countplot(x='Churn',hue= 'Education',data=train_data)\n",
    "plt.show()"
   ]
  },
  {
   "cell_type": "markdown",
   "metadata": {},
   "source": [
    "### Plot to check customer churned based on Marital Status"
   ]
  },
  {
   "cell_type": "code",
   "execution_count": 55,
   "metadata": {
    "scrolled": false
   },
   "outputs": [
    {
     "data": {
      "image/png": "[encoded data removed]",
      "text/plain": [
       "<Figure size 720x720 with 1 Axes>"
      ]
     },
     "metadata": {
      "needs_background": "light"
     },
     "output_type": "display_data"
    }
   ],
   "source": [
    "plt.figure(figsize=(10,10))\n",
    "sns.countplot(x='Churn',hue= 'MaritalStatus',data=train_data)\n",
    "plt.show()"
   ]
  },
  {
   "cell_type": "markdown",
   "metadata": {},
   "source": [
    "### Plot to check customer churned based on Occupation"
   ]
  },
  {
   "cell_type": "code",
   "execution_count": 56,
   "metadata": {},
   "outputs": [
    {
     "data": {
      "image/png": "[encoded data removed]",
      "text/plain": [
       "<Figure size 720x720 with 1 Axes>"
      ]
     },
     "metadata": {
      "needs_background": "light"
     },
     "output_type": "display_data"
    }
   ],
   "source": [
    "plt.figure(figsize=(10,10))\n",
    "sns.countplot(x='Churn',hue= 'Occupation',data=train_data)\n",
    "plt.show()"
   ]
  },
  {
   "cell_type": "markdown",
   "metadata": {},
   "source": [
    "### Eliminating the unwanted columns"
   ]
  },
  {
   "cell_type": "code",
   "execution_count": 57,
   "metadata": {},
   "outputs": [],
   "source": [
    "train_data.drop([\"CustomerID\",\"CustomerName\",\"yearofBirth\",\"monthofBirth\",\"dayofBirth\",\"monthofEntry\",\"dayofEntry\"],axis = 1, inplace=True)\n",
    "test_data.drop([\"CustomerID\",\"CustomerName\",\"yearofBirth\",\"monthofBirth\",\"dayofBirth\",\"monthofEntry\",\"dayofEntry\"],axis = 1, inplace=True)"
   ]
  },
  {
   "cell_type": "code",
   "execution_count": 58,
   "metadata": {},
   "outputs": [
    {
     "data": {
      "text/plain": [
       "Index(['yearofEntry', 'Gender', 'Location', 'Education', 'MaritalStatus',\n",
       "       'Occupation', 'Ownhouse', 'CreditScore', 'AccountBalance',\n",
       "       'NumberOfProducts', 'IsCreditCardCustomer', 'ActiveMember', 'Salary',\n",
       "       'Churn'],\n",
       "      dtype='object')"
      ]
     },
     "execution_count": 58,
     "metadata": {},
     "output_type": "execute_result"
    }
   ],
   "source": [
    "train_data.columns"
   ]
  },
  {
   "cell_type": "code",
   "execution_count": 59,
   "metadata": {},
   "outputs": [
    {
     "data": {
      "text/plain": [
       "Index(['yearofEntry', 'Gender', 'Location', 'Education', 'MaritalStatus',\n",
       "       'Occupation', 'Ownhouse', 'CreditScore', 'AccountBalance',\n",
       "       'NumberOfProducts', 'IsCreditCardCustomer', 'ActiveMember', 'Salary'],\n",
       "      dtype='object')"
      ]
     },
     "execution_count": 59,
     "metadata": {},
     "output_type": "execute_result"
    }
   ],
   "source": [
    "test_data.columns"
   ]
  },
  {
   "cell_type": "markdown",
   "metadata": {},
   "source": [
    "### Splitting given train_data into 'train' and 'validation' (70,30)"
   ]
  },
  {
   "cell_type": "code",
   "execution_count": 60,
   "metadata": {},
   "outputs": [],
   "source": [
    "Train, Val = train_test_split(train_data, train_size=0.7, random_state=42)"
   ]
  },
  {
   "cell_type": "code",
   "execution_count": 61,
   "metadata": {},
   "outputs": [
    {
     "data": {
      "text/plain": [
       "(5152, 14)"
      ]
     },
     "execution_count": 61,
     "metadata": {},
     "output_type": "execute_result"
    }
   ],
   "source": [
    "Train.shape"
   ]
  },
  {
   "cell_type": "code",
   "execution_count": 62,
   "metadata": {},
   "outputs": [
    {
     "data": {
      "text/plain": [
       "(2208, 14)"
      ]
     },
     "execution_count": 62,
     "metadata": {},
     "output_type": "execute_result"
    }
   ],
   "source": [
    "Val.shape"
   ]
  },
  {
   "cell_type": "markdown",
   "metadata": {},
   "source": [
    "### X veriables and y veriables "
   ]
  },
  {
   "cell_type": "code",
   "execution_count": 63,
   "metadata": {},
   "outputs": [],
   "source": [
    "X_train, y_train = Train.loc[:,Train.columns!='Churn'], Train.loc[:,'Churn']\n",
    "\n",
    "X_val, y_val = Val.loc[:,Val.columns!='Churn'], Val.loc[:,'Churn']"
   ]
  },
  {
   "cell_type": "code",
   "execution_count": 64,
   "metadata": {},
   "outputs": [
    {
     "name": "stdout",
     "output_type": "stream",
     "text": [
      "Index(['yearofEntry', 'Gender', 'Location', 'Education', 'MaritalStatus',\n",
      "       'Occupation', 'Ownhouse', 'CreditScore', 'AccountBalance',\n",
      "       'NumberOfProducts', 'IsCreditCardCustomer', 'ActiveMember', 'Salary'],\n",
      "      dtype='object')\n",
      "(5152, 13)\n"
     ]
    }
   ],
   "source": [
    "print(X_train.columns)\n",
    "print(X_train.shape)"
   ]
  },
  {
   "cell_type": "code",
   "execution_count": 65,
   "metadata": {},
   "outputs": [
    {
     "data": {
      "text/plain": [
       "(5152,)"
      ]
     },
     "execution_count": 65,
     "metadata": {},
     "output_type": "execute_result"
    }
   ],
   "source": [
    "y_train.shape"
   ]
  },
  {
   "cell_type": "code",
   "execution_count": 66,
   "metadata": {},
   "outputs": [
    {
     "name": "stdout",
     "output_type": "stream",
     "text": [
      "Index(['yearofEntry', 'Gender', 'Location', 'Education', 'MaritalStatus',\n",
      "       'Occupation', 'Ownhouse', 'CreditScore', 'AccountBalance',\n",
      "       'NumberOfProducts', 'IsCreditCardCustomer', 'ActiveMember', 'Salary'],\n",
      "      dtype='object')\n",
      "(2208, 13)\n"
     ]
    }
   ],
   "source": [
    "print(X_val.columns)\n",
    "print(X_val.shape)"
   ]
  },
  {
   "cell_type": "code",
   "execution_count": 67,
   "metadata": {},
   "outputs": [
    {
     "data": {
      "text/plain": [
       "(2208,)"
      ]
     },
     "execution_count": 67,
     "metadata": {},
     "output_type": "execute_result"
    }
   ],
   "source": [
    "y_val.shape"
   ]
  },
  {
   "cell_type": "markdown",
   "metadata": {},
   "source": [
    "### Creating pipeline for preprocessing"
   ]
  },
  {
   "cell_type": "code",
   "execution_count": 68,
   "metadata": {},
   "outputs": [],
   "source": [
    "cat_attr = list(X_train.select_dtypes('category').columns)\n",
    "num_attr = list(X_train.columns.difference(cat_attr))\n",
    "\n",
    "numeric_transformer = Pipeline(steps=[('imputer',SimpleImputer(strategy = 'median')),\n",
    "                                        ('scalar',StandardScaler())])\n",
    "\n",
    "catagorical_transformer = Pipeline(steps=[('imputer',SimpleImputer(strategy = 'most_frequent',fill_value='missing_value')),\n",
    "                                        ('onehot',OneHotEncoder(handle_unknown='ignore'))])\n",
    "\n",
    "preprocessor = ColumnTransformer(transformers=[\n",
    "    ('num',numeric_transformer,num_attr),\n",
    "    ('cat',catagorical_transformer,cat_attr)\n",
    "])"
   ]
  },
  {
   "cell_type": "markdown",
   "metadata": {},
   "source": [
    "### Creating Logistic Regression pipeline"
   ]
  },
  {
   "cell_type": "code",
   "execution_count": 69,
   "metadata": {},
   "outputs": [],
   "source": [
    "clf_logreg = Pipeline(steps=[('preprocessor',preprocessor),('classifier',LogisticRegression())])"
   ]
  },
  {
   "cell_type": "markdown",
   "metadata": {},
   "source": [
    "### Fitting the Logistic Regression Model"
   ]
  },
  {
   "cell_type": "code",
   "execution_count": 70,
   "metadata": {},
   "outputs": [
    {
     "data": {
      "text/plain": [
       "Pipeline(memory=None,\n",
       "         steps=[('preprocessor',\n",
       "                 ColumnTransformer(n_jobs=None, remainder='drop',\n",
       "                                   sparse_threshold=0.3,\n",
       "                                   transformer_weights=None,\n",
       "                                   transformers=[('num',\n",
       "                                                  Pipeline(memory=None,\n",
       "                                                           steps=[('imputer',\n",
       "                                                                   SimpleImputer(add_indicator=False,\n",
       "                                                                                 copy=True,\n",
       "                                                                                 fill_value=None,\n",
       "                                                                                 missing_values=nan,\n",
       "                                                                                 strategy='median',\n",
       "                                                                                 verbose=0)),\n",
       "                                                                  ('scalar',\n",
       "                                                                   StandardScaler(copy=True,\n",
       "                                                                                  with_mean...\n",
       "                                                  ['Gender', 'Location',\n",
       "                                                   'Education', 'MaritalStatus',\n",
       "                                                   'Occupation', 'Ownhouse'])],\n",
       "                                   verbose=False)),\n",
       "                ('classifier',\n",
       "                 LogisticRegression(C=1.0, class_weight=None, dual=False,\n",
       "                                    fit_intercept=True, intercept_scaling=1,\n",
       "                                    l1_ratio=None, max_iter=100,\n",
       "                                    multi_class='auto', n_jobs=None,\n",
       "                                    penalty='l2', random_state=None,\n",
       "                                    solver='lbfgs', tol=0.0001, verbose=0,\n",
       "                                    warm_start=False))],\n",
       "         verbose=False)"
      ]
     },
     "execution_count": 70,
     "metadata": {},
     "output_type": "execute_result"
    }
   ],
   "source": [
    "clf_logreg.fit(X_train, y_train)"
   ]
  },
  {
   "cell_type": "markdown",
   "metadata": {},
   "source": [
    "### Prediction on Validation data"
   ]
  },
  {
   "cell_type": "code",
   "execution_count": 71,
   "metadata": {},
   "outputs": [],
   "source": [
    "train_pred = clf_logreg.predict(X_train)\n",
    "test_pred = clf_logreg.predict(X_val)"
   ]
  },
  {
   "cell_type": "markdown",
   "metadata": {},
   "source": [
    "### Evaluating Model Performance on F1- Score"
   ]
  },
  {
   "cell_type": "code",
   "execution_count": 72,
   "metadata": {},
   "outputs": [
    {
     "name": "stdout",
     "output_type": "stream",
     "text": [
      "0.08680248007085915\n",
      "0.07024793388429751\n"
     ]
    }
   ],
   "source": [
    "print(f1_score(y_train, train_pred))\n",
    "print(f1_score(y_val, test_pred))"
   ]
  },
  {
   "cell_type": "markdown",
   "metadata": {},
   "source": [
    "### Prediction on test data"
   ]
  },
  {
   "cell_type": "code",
   "execution_count": 73,
   "metadata": {},
   "outputs": [],
   "source": [
    "y_test_pred = clf_logreg.predict(test_data)\n",
    "data = {'CustomerID':test_customerID, 'Churn': y_test_pred}\n",
    "pd.DataFrame(data).to_csv('LogisticRegression.csv')"
   ]
  },
  {
   "cell_type": "markdown",
   "metadata": {},
   "source": [
    "### Creating Simple Decision Tree"
   ]
  },
  {
   "cell_type": "code",
   "execution_count": 74,
   "metadata": {},
   "outputs": [
    {
     "data": {
      "text/plain": [
       "Pipeline(memory=None,\n",
       "         steps=[('preprocessor',\n",
       "                 ColumnTransformer(n_jobs=None, remainder='drop',\n",
       "                                   sparse_threshold=0.3,\n",
       "                                   transformer_weights=None,\n",
       "                                   transformers=[('num',\n",
       "                                                  Pipeline(memory=None,\n",
       "                                                           steps=[('imputer',\n",
       "                                                                   SimpleImputer(add_indicator=False,\n",
       "                                                                                 copy=True,\n",
       "                                                                                 fill_value=None,\n",
       "                                                                                 missing_values=nan,\n",
       "                                                                                 strategy='median',\n",
       "                                                                                 verbose=0)),\n",
       "                                                                  ('scalar',\n",
       "                                                                   StandardScaler(copy=True,\n",
       "                                                                                  with_mean...\n",
       "                                                   'Occupation', 'Ownhouse'])],\n",
       "                                   verbose=False)),\n",
       "                ('classifier',\n",
       "                 DecisionTreeClassifier(ccp_alpha=0.0, class_weight=None,\n",
       "                                        criterion='gini', max_depth=None,\n",
       "                                        max_features=None, max_leaf_nodes=None,\n",
       "                                        min_impurity_decrease=0.0,\n",
       "                                        min_impurity_split=None,\n",
       "                                        min_samples_leaf=1, min_samples_split=2,\n",
       "                                        min_weight_fraction_leaf=0.0,\n",
       "                                        presort='deprecated', random_state=None,\n",
       "                                        splitter='best'))],\n",
       "         verbose=False)"
      ]
     },
     "execution_count": 74,
     "metadata": {},
     "output_type": "execute_result"
    }
   ],
   "source": [
    "decision_tree = Pipeline(steps=[('preprocessor',preprocessor),('classifier',tree.DecisionTreeClassifier())])\n",
    "decision_tree.fit(X_train, y_train)"
   ]
  },
  {
   "cell_type": "code",
   "execution_count": 75,
   "metadata": {},
   "outputs": [],
   "source": [
    "decision_train_pred = decision_tree.predict(X_train)\n",
    "decision_pred = decision_tree.predict(X_val)"
   ]
  },
  {
   "cell_type": "code",
   "execution_count": 77,
   "metadata": {},
   "outputs": [
    {
     "name": "stdout",
     "output_type": "stream",
     "text": [
      "1.0\n",
      "0.38864628820960695\n"
     ]
    }
   ],
   "source": [
    "print(f1_score(y_train,decision_train_pred))\n",
    "print(f1_score(y_val,decision_pred))"
   ]
  },
  {
   "cell_type": "markdown",
   "metadata": {},
   "source": [
    "### Decision tree GridSearch"
   ]
  },
  {
   "cell_type": "code",
   "execution_count": 78,
   "metadata": {},
   "outputs": [],
   "source": [
    "dt_param_grid = {\"criterion\": [\"gini\", \"entropy\"],\n",
    "              \"min_samples_split\": [2, 10, 20],\n",
    "            \"max_depth\": [None, 2, 5, 10],\n",
    "           \"min_samples_leaf\": [1, 5, 10],\n",
    "          \"max_leaf_nodes\": [None, 5, 10, 20],\n",
    "         }"
   ]
  },
  {
   "cell_type": "code",
   "execution_count": 79,
   "metadata": {},
   "outputs": [
    {
     "data": {
      "text/plain": [
       "Pipeline(memory=None,\n",
       "         steps=[('preprocessor',\n",
       "                 ColumnTransformer(n_jobs=None, remainder='drop',\n",
       "                                   sparse_threshold=0.3,\n",
       "                                   transformer_weights=None,\n",
       "                                   transformers=[('num',\n",
       "                                                  Pipeline(memory=None,\n",
       "                                                           steps=[('imputer',\n",
       "                                                                   SimpleImputer(add_indicator=False,\n",
       "                                                                                 copy=True,\n",
       "                                                                                 fill_value=None,\n",
       "                                                                                 missing_values=nan,\n",
       "                                                                                 strategy='median',\n",
       "                                                                                 verbose=0)),\n",
       "                                                                  ('scalar',\n",
       "                                                                   StandardScaler(copy=True,\n",
       "                                                                                  with_mean...\n",
       "                                                               min_weight_fraction_leaf=0.0,\n",
       "                                                               presort='deprecated',\n",
       "                                                               random_state=None,\n",
       "                                                               splitter='best'),\n",
       "                              iid='deprecated', n_jobs=None,\n",
       "                              param_grid={'criterion': ['gini', 'entropy'],\n",
       "                                          'max_depth': [None, 2, 5, 10],\n",
       "                                          'max_leaf_nodes': [None, 5, 10, 20],\n",
       "                                          'min_samples_leaf': [1, 5, 10],\n",
       "                                          'min_samples_split': [2, 10, 20]},\n",
       "                              pre_dispatch='2*n_jobs', refit=True,\n",
       "                              return_train_score=False, scoring=None,\n",
       "                              verbose=0))],\n",
       "         verbose=False)"
      ]
     },
     "execution_count": 79,
     "metadata": {},
     "output_type": "execute_result"
    }
   ],
   "source": [
    "decision_tree_grid = Pipeline(steps=[('preprocessor',preprocessor),('classifier',GridSearchCV(tree.DecisionTreeClassifier(),dt_param_grid, cv=5))])\n",
    "decision_tree_grid.fit(X_train, y_train)"
   ]
  },
  {
   "cell_type": "code",
   "execution_count": 80,
   "metadata": {},
   "outputs": [],
   "source": [
    "decision_grid_pred_train = decision_tree_grid.predict(X_train)\n",
    "decision_grid_pred=decision_tree_grid.predict(X_val)"
   ]
  },
  {
   "cell_type": "code",
   "execution_count": 81,
   "metadata": {},
   "outputs": [
    {
     "name": "stdout",
     "output_type": "stream",
     "text": [
      "0.4052805280528053\n",
      "0.4324324324324324\n"
     ]
    }
   ],
   "source": [
    "print(f1_score(y_train,decision_grid_pred_train))\n",
    "print(f1_score(y_val,decision_grid_pred))"
   ]
  },
  {
   "cell_type": "markdown",
   "metadata": {},
   "source": [
    "### Prediction on test data"
   ]
  },
  {
   "cell_type": "code",
   "execution_count": 82,
   "metadata": {},
   "outputs": [],
   "source": [
    "y_test_pred = decision_tree_grid.predict(test_data)\n",
    "data = {'CustomerID':test_customerID, 'Churn': y_test_pred}\n",
    "pd.DataFrame(data).to_csv('DecisionTreeGrid.csv')"
   ]
  },
  {
   "cell_type": "markdown",
   "metadata": {},
   "source": [
    "### SVM"
   ]
  },
  {
   "cell_type": "code",
   "execution_count": 83,
   "metadata": {},
   "outputs": [],
   "source": [
    "#clf_svc = Pipeline(steps=[('preprocessor',preprocessor),('classifier',SVC())])\n",
    "#svc_param_grid = {'classifier__C': [0.001,0.01,0.1,1,10,100],\n",
    " #                'classifier__gamma': [0,0.0001,0.001,0.01,0.1,1,10,100],\n",
    "#                 \"classifier__kernel\":['linear','rbf','poly']}\n",
    "#svc_grid = GridSearchCV(clf_svc, param_grid=svc_param_grid, cv=5)\n",
    "\n",
    "#svc_grid.fit(X_train,y_train)"
   ]
  },
  {
   "cell_type": "code",
   "execution_count": 84,
   "metadata": {},
   "outputs": [],
   "source": [
    "#print(svc_grid.best_params_)\n",
    "#svc_pred = svc_grid.predict(X_val)\n",
    "#f1_score(y_val,svc_pred)"
   ]
  },
  {
   "cell_type": "code",
   "execution_count": 85,
   "metadata": {},
   "outputs": [],
   "source": [
    "#y_test_pred = svc_pred.predict(test_data)\n",
    "#data = {'CustomerID':test_customerID, 'Churn': y_test_pred}\n",
    "#pd.DataFrame(data).to_csv('SVM.csv')"
   ]
  },
  {
   "cell_type": "markdown",
   "metadata": {},
   "source": [
    "### Random Forest"
   ]
  },
  {
   "cell_type": "code",
   "execution_count": 86,
   "metadata": {},
   "outputs": [
    {
     "data": {
      "text/plain": [
       "GridSearchCV(cv=3, error_score=nan,\n",
       "             estimator=Pipeline(memory=None,\n",
       "                                steps=[('preprocessor',\n",
       "                                        ColumnTransformer(n_jobs=None,\n",
       "                                                          remainder='drop',\n",
       "                                                          sparse_threshold=0.3,\n",
       "                                                          transformer_weights=None,\n",
       "                                                          transformers=[('num',\n",
       "                                                                         Pipeline(memory=None,\n",
       "                                                                                  steps=[('imputer',\n",
       "                                                                                          SimpleImputer(add_indicator=False,\n",
       "                                                                                                        copy=True,\n",
       "                                                                                                        fill_value=None,\n",
       "                                                                                                        missing_values=nan,\n",
       "                                                                                                        strategy='median',\n",
       "                                                                                                        verbose=0)),...\n",
       "                                                               min_weight_fraction_leaf=0.0,\n",
       "                                                               n_estimators=100,\n",
       "                                                               n_jobs=None,\n",
       "                                                               oob_score=False,\n",
       "                                                               random_state=None,\n",
       "                                                               verbose=0,\n",
       "                                                               warm_start=False))],\n",
       "                                verbose=False),\n",
       "             iid='deprecated', n_jobs=None,\n",
       "             param_grid={'classifier__max_depth': [2, 4, 5, 10],\n",
       "                         'classifier__min_samples_leaf': [2, 4],\n",
       "                         'classifier__n_estimators': [20, 30, 50]},\n",
       "             pre_dispatch='2*n_jobs', refit=True, return_train_score=False,\n",
       "             scoring='f1', verbose=0)"
      ]
     },
     "execution_count": 86,
     "metadata": {},
     "output_type": "execute_result"
    }
   ],
   "source": [
    "randomForest =  Pipeline(steps=[('preprocessor',preprocessor),('classifier',RandomForestClassifier())])\n",
    "\n",
    "hyperparameters = { 'classifier__n_estimators': [20, 30, 50],\n",
    "                    'classifier__max_depth': [2, 4, 5, 10],\n",
    "                    'classifier__min_samples_leaf': [2, 4]\n",
    "                  }\n",
    "clf = GridSearchCV(randomForest, hyperparameters, cv = 3, scoring='f1')\n",
    "clf.fit(X_train,y_train)"
   ]
  },
  {
   "cell_type": "code",
   "execution_count": 48,
   "metadata": {},
   "outputs": [
    {
     "data": {
      "text/plain": [
       "{'classifier__max_depth': 10,\n",
       " 'classifier__min_samples_leaf': 2,\n",
       " 'classifier__n_estimators': 30}"
      ]
     },
     "execution_count": 48,
     "metadata": {},
     "output_type": "execute_result"
    }
   ],
   "source": [
    "clf.best_params_"
   ]
  },
  {
   "cell_type": "code",
   "execution_count": 89,
   "metadata": {},
   "outputs": [],
   "source": [
    "y_random_pred_train=clf.predict(X_train)\n",
    "y_random_pred = clf.predict(X_val)"
   ]
  },
  {
   "cell_type": "code",
   "execution_count": 90,
   "metadata": {},
   "outputs": [
    {
     "name": "stdout",
     "output_type": "stream",
     "text": [
      "0.4529977794226499\n",
      "0.26022304832713755\n"
     ]
    }
   ],
   "source": [
    "print(f1_score(y_train,y_random_pred_train))\n",
    "print(f1_score(y_val,y_random_pred))"
   ]
  },
  {
   "cell_type": "code",
   "execution_count": 91,
   "metadata": {},
   "outputs": [],
   "source": [
    "y_test_pred = clf.predict(test_data)\n",
    "data = {'CustomerID':test_customerID, 'Churn': y_test_pred}\n",
    "pd.DataFrame(data).to_csv('RandomForest.csv')"
   ]
  },
  {
   "cell_type": "markdown",
   "metadata": {},
   "source": [
    "### GradientBoosting"
   ]
  },
  {
   "cell_type": "code",
   "execution_count": 92,
   "metadata": {},
   "outputs": [
    {
     "data": {
      "text/plain": [
       "Pipeline(memory=None,\n",
       "         steps=[('preprocessor',\n",
       "                 ColumnTransformer(n_jobs=None, remainder='drop',\n",
       "                                   sparse_threshold=0.3,\n",
       "                                   transformer_weights=None,\n",
       "                                   transformers=[('num',\n",
       "                                                  Pipeline(memory=None,\n",
       "                                                           steps=[('imputer',\n",
       "                                                                   SimpleImputer(add_indicator=False,\n",
       "                                                                                 copy=True,\n",
       "                                                                                 fill_value=None,\n",
       "                                                                                 missing_values=nan,\n",
       "                                                                                 strategy='median',\n",
       "                                                                                 verbose=0)),\n",
       "                                                                  ('scalar',\n",
       "                                                                   StandardScaler(copy=True,\n",
       "                                                                                  with_mean...\n",
       "                                            learning_rate=0.1, loss='deviance',\n",
       "                                            max_depth=3, max_features=None,\n",
       "                                            max_leaf_nodes=None,\n",
       "                                            min_impurity_decrease=0.0,\n",
       "                                            min_impurity_split=None,\n",
       "                                            min_samples_leaf=1,\n",
       "                                            min_samples_split=2,\n",
       "                                            min_weight_fraction_leaf=0.0,\n",
       "                                            n_estimators=100,\n",
       "                                            n_iter_no_change=None,\n",
       "                                            presort='deprecated',\n",
       "                                            random_state=None, subsample=1.0,\n",
       "                                            tol=0.0001, validation_fraction=0.1,\n",
       "                                            verbose=0, warm_start=False))],\n",
       "         verbose=False)"
      ]
     },
     "execution_count": 92,
     "metadata": {},
     "output_type": "execute_result"
    }
   ],
   "source": [
    "gbCls =  Pipeline(steps=[('preprocessor',preprocessor),('classifier',GradientBoostingClassifier())])\n",
    "gbCls.fit(X_train,y_train)"
   ]
  },
  {
   "cell_type": "code",
   "execution_count": 93,
   "metadata": {},
   "outputs": [],
   "source": [
    "gb_pred_train = gbCls.predict(X_train)\n",
    "gb_pred = gbCls.predict(X_val)"
   ]
  },
  {
   "cell_type": "code",
   "execution_count": 94,
   "metadata": {},
   "outputs": [
    {
     "name": "stdout",
     "output_type": "stream",
     "text": [
      "0.4449182658137882\n",
      "0.3822075782537067\n"
     ]
    }
   ],
   "source": [
    "print(f1_score(y_train,gb_pred_train))\n",
    "print(f1_score(y_val,gb_pred))"
   ]
  },
  {
   "cell_type": "code",
   "execution_count": 95,
   "metadata": {},
   "outputs": [],
   "source": [
    "y_test_pred = gbCls.predict(test_data)\n",
    "data = {'CustomerID':test_customerID, 'Churn': y_test_pred}\n",
    "pd.DataFrame(data).to_csv('GradientBoosting.csv',index=False)"
   ]
  },
  {
   "cell_type": "markdown",
   "metadata": {},
   "source": [
    "### Random Forest balanced (Gave the f1 best score)"
   ]
  },
  {
   "cell_type": "code",
   "execution_count": 96,
   "metadata": {},
   "outputs": [
    {
     "data": {
      "text/plain": [
       "GridSearchCV(cv=3, error_score=nan,\n",
       "             estimator=Pipeline(memory=None,\n",
       "                                steps=[('preprocessor',\n",
       "                                        ColumnTransformer(n_jobs=None,\n",
       "                                                          remainder='drop',\n",
       "                                                          sparse_threshold=0.3,\n",
       "                                                          transformer_weights=None,\n",
       "                                                          transformers=[('num',\n",
       "                                                                         Pipeline(memory=None,\n",
       "                                                                                  steps=[('imputer',\n",
       "                                                                                          SimpleImputer(add_indicator=False,\n",
       "                                                                                                        copy=True,\n",
       "                                                                                                        fill_value=None,\n",
       "                                                                                                        missing_values=nan,\n",
       "                                                                                                        strategy='median',\n",
       "                                                                                                        verbose=0)),...\n",
       "                                                               min_weight_fraction_leaf=0.0,\n",
       "                                                               n_estimators=100,\n",
       "                                                               n_jobs=None,\n",
       "                                                               oob_score=False,\n",
       "                                                               random_state=None,\n",
       "                                                               verbose=0,\n",
       "                                                               warm_start=False))],\n",
       "                                verbose=False),\n",
       "             iid='deprecated', n_jobs=None,\n",
       "             param_grid={'classifier__max_depth': [2, 4, 5, 10],\n",
       "                         'classifier__min_samples_leaf': [2, 4],\n",
       "                         'classifier__n_estimators': [20, 30, 50]},\n",
       "             pre_dispatch='2*n_jobs', refit=True, return_train_score=False,\n",
       "             scoring='f1', verbose=0)"
      ]
     },
     "execution_count": 96,
     "metadata": {},
     "output_type": "execute_result"
    }
   ],
   "source": [
    "randomForest =  Pipeline(steps=[('preprocessor',preprocessor),('classifier',RandomForestClassifier(class_weight='balanced'))])\n",
    "\n",
    "hyperparameters = { 'classifier__n_estimators': [20, 30, 50],\n",
    "                    'classifier__max_depth': [2, 4, 5, 10],\n",
    "                    'classifier__min_samples_leaf': [2, 4]\n",
    "                  }\n",
    "clf = GridSearchCV(randomForest, hyperparameters, cv = 3, scoring='f1')\n",
    "clf.fit(X_train,y_train)"
   ]
  },
  {
   "cell_type": "code",
   "execution_count": 97,
   "metadata": {},
   "outputs": [
    {
     "data": {
      "text/plain": [
       "{'classifier__max_depth': 5,\n",
       " 'classifier__min_samples_leaf': 4,\n",
       " 'classifier__n_estimators': 30}"
      ]
     },
     "execution_count": 97,
     "metadata": {},
     "output_type": "execute_result"
    }
   ],
   "source": [
    "clf.best_params_"
   ]
  },
  {
   "cell_type": "code",
   "execution_count": 98,
   "metadata": {},
   "outputs": [],
   "source": [
    "y_random_pred_train = clf.predict(X_train)\n",
    "y_random_pred = clf.predict(X_val)"
   ]
  },
  {
   "cell_type": "code",
   "execution_count": 99,
   "metadata": {},
   "outputs": [
    {
     "name": "stdout",
     "output_type": "stream",
     "text": [
      "0.5288753799392096\n",
      "0.4940991345397324\n"
     ]
    }
   ],
   "source": [
    "print(f1_score(y_train,y_random_pred_train))\n",
    "print(f1_score(y_val,y_random_pred))"
   ]
  },
  {
   "cell_type": "code",
   "execution_count": 100,
   "metadata": {},
   "outputs": [],
   "source": [
    "y_test_pred = clf.predict(test_data)\n",
    "data = {'CustomerID':test_customerID, 'Churn': y_test_pred}\n",
    "pd.DataFrame(data).to_csv('RandomForestBalanced.csv')"
   ]
  }
 ],
 "metadata": {
  "kernelspec": {
   "display_name": "Python 3",
   "language": "python",
   "name": "python3"
  },
  "language_info": {
   "codemirror_mode": {
    "name": "ipython",
    "version": 3
   },
   "file_extension": ".py",
   "mimetype": "text/x-python",
   "name": "python",
   "nbconvert_exporter": "python",
   "pygments_lexer": "ipython3",
   "version": "3.7.4"
  }
 },
 "nbformat": 4,
 "nbformat_minor": 2
}
